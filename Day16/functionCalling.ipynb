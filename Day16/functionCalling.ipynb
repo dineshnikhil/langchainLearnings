{
 "cells": [
  {
   "cell_type": "code",
   "execution_count": 2,
   "metadata": {},
   "outputs": [],
   "source": [
    "# ==================== SETTING UP THE MODEL FROM OPEN AI ====================\n",
    "\n",
    "import os\n",
    "import pandas as pd\n",
    "from dotenv import load_dotenv\n",
    "from langchain_openai import OpenAI\n",
    "from openai import OpenAI\n",
    "\n",
    "# ==================== LODING THE ENV VARIABLES =========================\n",
    "load_dotenv()\n",
    "\n",
    "os.environ[\"OPENAI_API_KEY\"] = os.getenv(\"OPENAI_API_KEY\")\n",
    "os.environ[\"LANGCHAIN_API_KEY\"] = os.getenv(\"LANGCHAIN_API_KEY\")\n",
    "os.environ[\"LANGCHAIN_TRACING_V2\"] = \"true\"\n",
    "os.environ[\"GROQ_API_KEY\"] = os.getenv(\"GROQ_API_KEY\")\n",
    "\n",
    "# ==================== INISIATING THE CLIENT =============================\n",
    "client = OpenAI()"
   ]
  },
  {
   "cell_type": "code",
   "execution_count": 4,
   "metadata": {},
   "outputs": [],
   "source": [
    "messages = [\n",
    "    {\"role\": \"user\",\n",
    "     \"content\": \"\"\"What's the weather like in San Francisco,\n",
    "                   New York, and Las Vegass?\"\"\"\n",
    "    }\n",
    "]\n",
    "\n",
    "tools = [\n",
    "    {\n",
    "        \"type\": \"function\",\n",
    "        \"function\": {\n",
    "            \"name\": \"get_current_weather\",\n",
    "            \"description\": \"\"\"Get the current weather in a given\n",
    "                              location.The default unit when not\n",
    "                              specified is fahrenheit\"\"\",\n",
    "            \"parameters\": {\n",
    "                \"type\": \"object\",\n",
    "                \"properties\": {\n",
    "                    \"location\": {\n",
    "                        \"type\": \"string\",\n",
    "                        \"description\": \"\"\"The city and state,\n",
    "                                        e.g. San Francisco, CA\"\"\",\n",
    "                    },\n",
    "                    \"unit\": {\n",
    "                        \"type\": \"string\",\n",
    "                        \"default\":\"fahrenheit\",\n",
    "                        \"enum\": [ \"fahrenheit\", \"celsius\"],\n",
    "                        \"description\": \"\"\"The messuring unit for\n",
    "                                          the temperature.\n",
    "                                          If not explicitly specified\n",
    "                                          the default unit is \n",
    "                                          fahrenheit\"\"\"\n",
    "                    },\n",
    "                },\n",
    "                \"required\": [\"location\"],\n",
    "            },\n",
    "        },\n",
    "    }\n",
    "]"
   ]
  },
  {
   "cell_type": "code",
   "execution_count": 6,
   "metadata": {},
   "outputs": [
    {
     "data": {
      "text/plain": [
       "'{\"location\": \"New York\", \"temperature\": \"40\", \"unit\": \"fahrenheit\"}'"
      ]
     },
     "execution_count": 6,
     "metadata": {},
     "output_type": "execute_result"
    }
   ],
   "source": [
    "import json\n",
    "\n",
    "def get_current_weather(location, unit=\"fahrenheit\"):\n",
    "    \"\"\"Get the current weather in a given location. \n",
    "    The default unit when not specified is fahrenheit\"\"\"\n",
    "    if \"new york\" in location.lower():\n",
    "        return json.dumps(\n",
    "            {\"location\": \"New York\", \"temperature\": \"40\", \"unit\": unit}\n",
    "        )\n",
    "    elif \"san francisco\" in location.lower():\n",
    "        return json.dumps(\n",
    "            {\"location\": \"San Francisco\", \"temperature\": \"50\", \"unit\": unit}\n",
    "        )\n",
    "    elif \"las vegas\" in location.lower():\n",
    "        return json.dumps(\n",
    "            {\"location\": \"Las Vegas\", \"temperature\": \"70\", \"unit\": unit}\n",
    "        )\n",
    "    else:\n",
    "        return json.dumps(\n",
    "            {\"location\": location, \"temperature\": \"unknown\"}\n",
    "        )\n",
    "\n",
    "get_current_weather(\"New York\")"
   ]
  },
  {
   "cell_type": "code",
   "execution_count": 7,
   "metadata": {},
   "outputs": [
    {
     "name": "stdout",
     "output_type": "stream",
     "text": [
      "this is the response_message = ChatCompletionMessage(content=None, role='assistant', function_call=None, tool_calls=[ChatCompletionMessageToolCall(id='call_xxWqXBgAoMvwfc3HB22alqmb', function=Function(arguments='{\"location\": \"San Francisco, CA\"}', name='get_current_weather'), type='function'), ChatCompletionMessageToolCall(id='call_HvrasxMup5FgSlYSjkdK5h4f', function=Function(arguments='{\"location\": \"New York, NY\"}', name='get_current_weather'), type='function'), ChatCompletionMessageToolCall(id='call_aIJK3pTPrSMjWzJ0DpUgzMAN', function=Function(arguments='{\"location\": \"Las Vegas, NV\"}', name='get_current_weather'), type='function')])\n",
      "[ChatCompletionMessageToolCall(id='call_xxWqXBgAoMvwfc3HB22alqmb', function=Function(arguments='{\"location\": \"San Francisco, CA\"}', name='get_current_weather'), type='function'), ChatCompletionMessageToolCall(id='call_HvrasxMup5FgSlYSjkdK5h4f', function=Function(arguments='{\"location\": \"New York, NY\"}', name='get_current_weather'), type='function'), ChatCompletionMessageToolCall(id='call_aIJK3pTPrSMjWzJ0DpUgzMAN', function=Function(arguments='{\"location\": \"Las Vegas, NV\"}', name='get_current_weather'), type='function')]\n",
      "[{'role': 'user', 'content': \"What's the weather like in San Francisco,\\n                   New York, and Las Vegass?\"}, ChatCompletionMessage(content=None, role='assistant', function_call=None, tool_calls=[ChatCompletionMessageToolCall(id='call_xxWqXBgAoMvwfc3HB22alqmb', function=Function(arguments='{\"location\": \"San Francisco, CA\"}', name='get_current_weather'), type='function'), ChatCompletionMessageToolCall(id='call_HvrasxMup5FgSlYSjkdK5h4f', function=Function(arguments='{\"location\": \"New York, NY\"}', name='get_current_weather'), type='function'), ChatCompletionMessageToolCall(id='call_aIJK3pTPrSMjWzJ0DpUgzMAN', function=Function(arguments='{\"location\": \"Las Vegas, NV\"}', name='get_current_weather'), type='function')]), {'tool_call_id': 'call_xxWqXBgAoMvwfc3HB22alqmb', 'role': 'tool', 'name': 'get_current_weather', 'content': '{\"location\": \"San Francisco\", \"temperature\": \"50\", \"unit\": null}'}, {'tool_call_id': 'call_HvrasxMup5FgSlYSjkdK5h4f', 'role': 'tool', 'name': 'get_current_weather', 'content': '{\"location\": \"New York\", \"temperature\": \"40\", \"unit\": null}'}, {'tool_call_id': 'call_aIJK3pTPrSMjWzJ0DpUgzMAN', 'role': 'tool', 'name': 'get_current_weather', 'content': '{\"location\": \"Las Vegas\", \"temperature\": \"70\", \"unit\": null}'}]\n"
     ]
    }
   ],
   "source": [
    "response = client.chat.completions.create(\n",
    "    model=\"gpt-4o-mini-2024-07-18\",\n",
    "    messages=messages,\n",
    "    tools=tools,\n",
    "    tool_choice=\"auto\", \n",
    ")\n",
    "\n",
    "response_message = response.choices[0].message\n",
    "print(f\"this is the response_message = {response_message}\")\n",
    "tool_calls = response_message.tool_calls\n",
    "\n",
    "if tool_calls:\n",
    "    print (tool_calls)\n",
    "    \n",
    "    available_functions = {\n",
    "        \"get_current_weather\": get_current_weather,\n",
    "    } \n",
    "    messages.append(response_message)  \n",
    "    \n",
    "    for tool_call in tool_calls:\n",
    "        function_name = tool_call.function.name\n",
    "        function_to_call = available_functions[function_name]\n",
    "        function_args = json.loads(tool_call.function.arguments)\n",
    "        function_response = function_to_call(\n",
    "            location=function_args.get(\"location\"),\n",
    "            unit=function_args.get(\"unit\"),\n",
    "        )\n",
    "        messages.append(\n",
    "            {\n",
    "                \"tool_call_id\": tool_call.id,\n",
    "                \"role\": \"tool\",\n",
    "                \"name\": function_name,\n",
    "                \"content\": function_response,\n",
    "            }\n",
    "        )  \n",
    "    print (messages)"
   ]
  },
  {
   "cell_type": "code",
   "execution_count": 9,
   "metadata": {},
   "outputs": [
    {
     "name": "stdout",
     "output_type": "stream",
     "text": [
      "ChatCompletion(id='chatcmpl-9peAn4jBWy70IYU6SHkOfvuxtI5oQ', choices=[Choice(finish_reason='stop', index=0, logprobs=None, message=ChatCompletionMessage(content=\"Here's the current weather in the three cities:\\n\\n- **San Francisco, CA**: 50°F\\n- **New York, NY**: 40°F\\n- **Las Vegas, NV**: 70°F\\n\\nLet me know if you need more information!\", role='assistant', function_call=None, tool_calls=None))], created=1722096181, model='gpt-4o-mini-2024-07-18', object='chat.completion', system_fingerprint='fp_ba606877f9', usage=CompletionUsage(completion_tokens=54, prompt_tokens=159, total_tokens=213))\n"
     ]
    }
   ],
   "source": [
    "second_response = client.chat.completions.create(\n",
    "            model=\"gpt-4o-mini-2024-07-18\",\n",
    "            messages=messages,\n",
    "        )\n",
    "print (second_response)"
   ]
  }
 ],
 "metadata": {
  "kernelspec": {
   "display_name": "langchainTutorial",
   "language": "python",
   "name": "python3"
  },
  "language_info": {
   "codemirror_mode": {
    "name": "ipython",
    "version": 3
   },
   "file_extension": ".py",
   "mimetype": "text/x-python",
   "name": "python",
   "nbconvert_exporter": "python",
   "pygments_lexer": "ipython3",
   "version": "3.12.3"
  }
 },
 "nbformat": 4,
 "nbformat_minor": 2
}
