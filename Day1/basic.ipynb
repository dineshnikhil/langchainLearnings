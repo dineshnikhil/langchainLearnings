{
 "cells": [
  {
   "cell_type": "code",
   "execution_count": 5,
   "metadata": {},
   "outputs": [],
   "source": [
    "from dotenv import load_dotenv\n",
    "import os\n",
    "\n",
    "\n",
    "load_dotenv()\n",
    "\n",
    "os.environ[\"OPENAI_API_KEY\"] = os.getenv(\"OPENAI_API_KEY\")\n",
    "os.environ[\"LANGCHAIN_API_KEY\"] = os.getenv(\"LANGCHAIN_API_KEY\")\n",
    "os.environ[\"LANGCHAIN_TRACING_V2\"] = \"true\""
   ]
  },
  {
   "cell_type": "code",
   "execution_count": 6,
   "metadata": {},
   "outputs": [],
   "source": [
    "from langchain_openai import ChatOpenAI\n",
    "\n",
    "llm = ChatOpenAI()"
   ]
  },
  {
   "cell_type": "code",
   "execution_count": 8,
   "metadata": {},
   "outputs": [
    {
     "data": {
      "text/plain": [
       "AIMessage(content='React.js is a popular JavaScript library used for building user interfaces for web applications. It offers several benefits that can help with web development:\\n\\n1. Component-based architecture: React.js uses a component-based structure, allowing developers to break down the user interface into small, reusable components. This makes it easier to manage and maintain code, as well as promote code reusability.\\n\\n2. Virtual DOM: React.js uses a virtual DOM, which is a lightweight copy of the actual DOM. This allows React to efficiently update and render only the components that have changed, leading to improved performance and faster rendering.\\n\\n3. JSX syntax: React.js uses JSX, a syntax extension that allows developers to write HTML-like code within JavaScript. This makes it easier to write and understand code, as well as enables developers to use JavaScript logic within the markup.\\n\\n4. One-way data binding: React.js follows a unidirectional data flow, where data is passed from parent components to child components through props. This helps maintain data consistency and makes it easier to debug and track data changes.\\n\\n5. Rich ecosystem: React.js has a large and active community, as well as a vast ecosystem of libraries and tools that can enhance development productivity. This includes tools for state management (Redux), routing (React Router), and styling (Styled Components), among others.\\n\\nOverall, React.js can help with web development by providing a flexible and efficient framework for building interactive and dynamic user interfaces. Its component-based architecture, virtual DOM, JSX syntax, one-way data binding, and rich ecosystem make it a popular choice for modern web applications.', response_metadata={'token_usage': {'completion_tokens': 318, 'prompt_tokens': 16, 'total_tokens': 334}, 'model_name': 'gpt-3.5-turbo', 'system_fingerprint': None, 'finish_reason': 'stop', 'logprobs': None}, id='run-b126db57-7eb4-4557-86ff-fd516ebee191-0')"
      ]
     },
     "execution_count": 8,
     "metadata": {},
     "output_type": "execute_result"
    }
   ],
   "source": [
    "# llm.invoke(\"what is 2 + 3 just tell me the answer no explanation.\")\n",
    "llm.invoke(\"how can react.js help with web development?\")\n",
    "\n",
    "# result will be like below\n",
    "# AIMessage(\n",
    "#     content='5',\n",
    "#     response_metadata={\n",
    "#         'token_usage': {'completion_tokens': 1, 'prompt_tokens': 22, 'total_tokens': 23},\n",
    "#         'model_name': 'gpt-3.5-turbo',\n",
    "#         'system_fingerprint': None,\n",
    "#         'finish_reason': 'stop',\n",
    "#         'logprobs': None\n",
    "#         },\n",
    "#     id='run-f72b702e-bd43-4357-985d-2e2e974850b3-0'\n",
    "# )"
   ]
  },
  {
   "cell_type": "code",
   "execution_count": 11,
   "metadata": {},
   "outputs": [
    {
     "data": {
      "text/plain": [
       "'React.js is a popular JavaScript library used for building user interfaces in web development. Some of the key reasons why React.js is used include:\\n\\n1. **Component-Based Architecture**: React.js uses a component-based architecture which allows developers to build encapsulated components that manage their own state, making it easier to reuse code, maintain and update.\\n\\n2. **Virtual DOM**: React.js uses a virtual DOM (Document Object Model) which improves performance by updating only the necessary parts of the actual DOM when the state changes, resulting in faster rendering of components.\\n\\n3. **Declarative Syntax**: React.js uses a declarative syntax which makes it easier to understand and write code. Developers can describe how the UI should look based on the current state, and React will automatically update the UI when the state changes.\\n\\n4. **Efficient Data Binding**: React.js provides efficient data binding which ensures that any changes in the data are automatically reflected in the UI, simplifying the process of managing and updating data.\\n\\n5. **Community and Ecosystem**: React.js has a large and active community with a vast ecosystem of libraries and tools that make it easy to integrate React with other technologies and frameworks.\\n\\nOverall, React.js is widely used in web development for building interactive, responsive, and scalable user interfaces for web applications.'"
      ]
     },
     "execution_count": 11,
     "metadata": {},
     "output_type": "execute_result"
    }
   ],
   "source": [
    "from langchain_core.prompts import ChatPromptTemplate\n",
    "from langchain_core.output_parsers import StrOutputParser\n",
    "\n",
    "prompt = ChatPromptTemplate.from_messages([\n",
    "    (\"system\", \"You are a world class web developer with over 20+ years industy experince.\"),\n",
    "    (\"user\", \"{input}\")\n",
    "])\n",
    "\n",
    "output_parser = StrOutputParser()\n",
    "markdown = MarkdownListOutputParser()\n",
    "\n",
    "chain = prompt | llm | output_parser\n",
    "\n",
    "chain.invoke({\"input\": \"for what we use react.js in web development?\"})\n",
    "\n",
    "# belwo is the result\n",
    "# 'React.js is a popular JavaScript library used for building user interfaces in web development. Some of the key reasons why React.js is used include:\\n\\n1. **Component-Based Architecture**: React.js uses a component-based architecture which allows developers to build encapsulated components that manage their own state, making it easier to reuse code, maintain and update.\\n\\n2. **Virtual DOM**: React.js uses a virtual DOM (Document Object Model) which improves performance by updating only the necessary parts of the actual DOM when the state changes, resulting in faster rendering of components.\\n\\n3. **Declarative Syntax**: React.js uses a declarative syntax which makes it easier to understand and write code. Developers can describe how the UI should look based on the current state, and React will automatically update the UI when the state changes.\\n\\n4. **Efficient Data Binding**: React.js provides efficient data binding which ensures that any changes in the data are automatically reflected in the UI, simplifying the process of managing and updating data.\\n\\n5. **Community and Ecosystem**: React.js has a large and active community with a vast ecosystem of libraries and tools that make it easy to integrate React with other technologies and frameworks.\\n\\nOverall, React.js is widely used in web development for building interactive, responsive, and scalable user interfaces for web applications.'\n"
   ]
  },
  {
   "cell_type": "code",
   "execution_count": 2,
   "metadata": {},
   "outputs": [
    {
     "data": {
      "text/plain": [
       "\"Hello there! It's nice to meet you. Is there something I can help you with, or would you like to chat?\""
      ]
     },
     "execution_count": 2,
     "metadata": {},
     "output_type": "execute_result"
    }
   ],
   "source": [
    "from langchain_community.llms import Ollama\n",
    "\n",
    "llama3_llm = Ollama(model=\"llama3\")"
   ]
  },
  {
   "cell_type": "code",
   "execution_count": 3,
   "metadata": {},
   "outputs": [
    {
     "data": {
      "text/plain": [
       "\"Here's one:\\n\\nWhy did the cat join a band?\\n\\nBecause it wanted to be the purr-cussionist!\\n\\nI hope that made you mew with laughter!\""
      ]
     },
     "execution_count": 3,
     "metadata": {},
     "output_type": "execute_result"
    }
   ],
   "source": [
    "from langchain_core.prompts import PromptTemplate\n",
    "\n",
    "llama_template = PromptTemplate.from_template(\"can you tell me one joke about {subject}.\")\n",
    "final_template = llama_template.format(subject=\"cat\")\n",
    "\n",
    "llama3_llm.invoke(final_template)\n",
    "\n"
   ]
  }
 ],
 "metadata": {
  "kernelspec": {
   "display_name": "langchainTutorial",
   "language": "python",
   "name": "python3"
  },
  "language_info": {
   "codemirror_mode": {
    "name": "ipython",
    "version": 3
   },
   "file_extension": ".py",
   "mimetype": "text/x-python",
   "name": "python",
   "nbconvert_exporter": "python",
   "pygments_lexer": "ipython3",
   "version": "3.12.3"
  }
 },
 "nbformat": 4,
 "nbformat_minor": 2
}
