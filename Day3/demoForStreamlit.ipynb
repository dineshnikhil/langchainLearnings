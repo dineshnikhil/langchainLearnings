{
 "cells": [
  {
   "cell_type": "code",
   "execution_count": 3,
   "metadata": {},
   "outputs": [
    {
     "ename": "ImportError",
     "evalue": "cannot import name 'StreamlitNotebook' from 'streamlit_jupyter' (c:\\Users\\kalya\\Desktop\\developer\\code\\langchain\\langchainTutorial\\Lib\\site-packages\\streamlit_jupyter\\__init__.py)",
     "output_type": "error",
     "traceback": [
      "\u001b[1;31m---------------------------------------------------------------------------\u001b[0m",
      "\u001b[1;31mImportError\u001b[0m                               Traceback (most recent call last)",
      "Cell \u001b[1;32mIn[3], line 1\u001b[0m\n\u001b[1;32m----> 1\u001b[0m \u001b[38;5;28;01mfrom\u001b[39;00m \u001b[38;5;21;01mstreamlit_jupyter\u001b[39;00m \u001b[38;5;28;01mimport\u001b[39;00m StreamlitNotebook\n\u001b[0;32m      3\u001b[0m st \u001b[38;5;241m=\u001b[39m StreamlitNotebook()\n\u001b[0;32m      5\u001b[0m st\u001b[38;5;241m.\u001b[39mtitle(\u001b[38;5;124m'\u001b[39m\u001b[38;5;124mHello, Streamlit!\u001b[39m\u001b[38;5;124m'\u001b[39m)\n",
      "\u001b[1;31mImportError\u001b[0m: cannot import name 'StreamlitNotebook' from 'streamlit_jupyter' (c:\\Users\\kalya\\Desktop\\developer\\code\\langchain\\langchainTutorial\\Lib\\site-packages\\streamlit_jupyter\\__init__.py)"
     ]
    }
   ],
   "source": [
    "from streamlit_jupyter import StreamlitNotebook\n",
    "\n",
    "st = StreamlitNotebook()\n",
    "\n",
    "st.title('Hello, Streamlit!')\n",
    "st.write('This is a simple Streamlit app.')\n"
   ]
  }
 ],
 "metadata": {
  "kernelspec": {
   "display_name": "langchainTutorial",
   "language": "python",
   "name": "python3"
  },
  "language_info": {
   "codemirror_mode": {
    "name": "ipython",
    "version": 3
   },
   "file_extension": ".py",
   "mimetype": "text/x-python",
   "name": "python",
   "nbconvert_exporter": "python",
   "pygments_lexer": "ipython3",
   "version": "3.12.3"
  }
 },
 "nbformat": 4,
 "nbformat_minor": 2
}
